{
 "cells": [
  {
   "cell_type": "markdown",
   "metadata": {
    "editable": true
   },
   "source": [
    "## Import files to create model"
   ]
  },
  {
   "cell_type": "code",
   "execution_count": 1,
   "metadata": {
    "editable": true
   },
   "outputs": [],
   "source": [
    "import configparser\n",
    "import datetime as dt\n",
    "from datetime import datetime\n",
    "import os\n",
    "import glob\n",
    "from pyspark.sql import SparkSession\n",
    "from pyspark.sql.types import DateType\n",
    "from pyspark.sql.functions import udf, col, lit, year, month, upper, to_date\n",
    "from pyspark.sql.functions import monotonically_increasing_id\n",
    "import pandas as pd\n",
    "from pyspark.sql.types import *\n",
    "from pyspark.sql.types import StructType as R, StructField as Fld, DoubleType as Dbl, StringType as Str, IntegerType as Int, DateType as Date"
   ]
  },
  {
   "cell_type": "markdown",
   "metadata": {
    "editable": true
   },
   "source": [
    "## Load configuration data"
   ]
  },
  {
   "cell_type": "code",
   "execution_count": 2,
   "metadata": {
    "editable": true
   },
   "outputs": [],
   "source": [
    "config = configparser.ConfigParser()\n",
    "config.read_file(open('dl.cfg'))\n",
    "\n",
    "os.environ[\"AWS_ACCESS_KEY_ID\"]= config['AWS']['AWS_ACCESS_KEY_ID']\n",
    "os.environ[\"AWS_SECRET_ACCESS_KEY\"]= config['AWS']['AWS_SECRET_ACCESS_KEY']"
   ]
  },
  {
   "cell_type": "markdown",
   "metadata": {
    "editable": true
   },
   "source": [
    "## Declare input and output data"
   ]
  },
  {
   "cell_type": "code",
   "execution_count": 3,
   "metadata": {
    "editable": true
   },
   "outputs": [],
   "source": [
    "# Declare input and output data\n",
    "input_data = \"\"\n",
    "output_data = \"Capstone_Project/\""
   ]
  },
  {
   "cell_type": "markdown",
   "metadata": {
    "editable": true
   },
   "source": [
    "## Creating the session"
   ]
  },
  {
   "cell_type": "code",
   "execution_count": 4,
   "metadata": {
    "editable": true
   },
   "outputs": [],
   "source": [
    "#creating the session\n",
    "spark = SparkSession \\\n",
    "        .builder \\\n",
    "        .config(\"spark.jars.repositories\", \"https://repos.spark-packages.org/\")\\\n",
    "        .config(\"spark.jars.packages\", \"saurfang:spark-sas7bdat:2.0.0-s_2.11\")\\\n",
    "        .enableHiveSupport().getOrCreate()"
   ]
  },
  {
   "cell_type": "markdown",
   "metadata": {
    "editable": true
   },
   "source": [
    "## Define Function to get all filepaths from repository"
   ]
  },
  {
   "cell_type": "code",
   "execution_count": 5,
   "metadata": {
    "editable": true
   },
   "outputs": [],
   "source": [
    "#Function to get all filepaths from repository\n",
    "def get_files(filepath):\n",
    "    all_files = []\n",
    "    for root, dirs, files in os.walk(filepath):\n",
    "        files = glob.glob(os.path.join(root,'*.sas7bdat'))\n",
    "        for f in files :\n",
    "            all_files.append(os.path.abspath(f))\n",
    "    \n",
    "    return all_files"
   ]
  },
  {
   "cell_type": "markdown",
   "metadata": {
    "editable": true
   },
   "source": [
    "## Get filepath to immigration data files"
   ]
  },
  {
   "cell_type": "code",
   "execution_count": 6,
   "metadata": {
    "editable": true
   },
   "outputs": [
    {
     "name": "stdout",
     "output_type": "stream",
     "text": [
      "12 files found in ../../data/18-83510-I94-Data-2016/\n"
     ]
    }
   ],
   "source": [
    "# get filepath to immigration data files\n",
    "filepath = input_data + '../../data/18-83510-I94-Data-2016/'\n",
    "all_files = get_files(filepath)\n",
    "\n",
    "# get total number of files found\n",
    "num_files = len(all_files)\n",
    "print('{} files found in {}'.format(num_files, filepath))"
   ]
  },
  {
   "cell_type": "markdown",
   "metadata": {
    "editable": true
   },
   "source": [
    "## Create immigration-data schema"
   ]
  },
  {
   "cell_type": "code",
   "execution_count": 7,
   "metadata": {
    "editable": true
   },
   "outputs": [],
   "source": [
    "#create immigration-data schema\n",
    "immigrationSchema = R([\n",
    "    Fld(\"cicid\",Int()),\n",
    "    Fld(\"i94yr\",Int()),\n",
    "    Fld(\"i94mon\",Int()),\n",
    "    Fld(\"i94cit\",Int()),\n",
    "    Fld(\"i94res\",Int()),\n",
    "    Fld(\"i94port\",Str()),\n",
    "    Fld(\"arrdate\",Dbl()),\n",
    "    Fld(\"i94mode\",Int()),\n",
    "    Fld(\"i94addr\",Str()),\n",
    "    Fld(\"depdate\",Dbl()),\n",
    "    Fld(\"i94bir\",Int()),\n",
    "    Fld(\"i94visa\",Int()),\n",
    "    Fld(\"count\",Int()),\n",
    "    Fld(\"dtadfile\",Str()),\n",
    "    Fld(\"visapost\",Str()),\n",
    "    Fld(\"occup\",Str()),\n",
    "    Fld(\"entdepa\",Str()),\n",
    "    Fld(\"entdepd\",Str()),\n",
    "    Fld(\"entdepu\",Str()),\n",
    "    Fld(\"matflag\",Str()),\n",
    "    Fld(\"biryear\",Int()),\n",
    "    Fld(\"dtaddto\",Str()),\n",
    "    Fld(\"gender\",Str()),\n",
    "    Fld(\"insnum\",Str()),\n",
    "    Fld(\"airline\",Str()),\n",
    "    Fld(\"admnum\",DecimalType(18, 0)),\n",
    "    Fld(\"fltno\",Str()),\n",
    "    Fld(\"visatype\",Str())\n",
    "])"
   ]
  },
  {
   "cell_type": "markdown",
   "metadata": {
    "editable": true
   },
   "source": [
    "## Create df_immigration datafame with expected schema"
   ]
  },
  {
   "cell_type": "code",
   "execution_count": 8,
   "metadata": {
    "editable": true
   },
   "outputs": [],
   "source": [
    "# Create an empty RDD\n",
    "emp_RDD = spark.sparkContext.emptyRDD()\n",
    "\n",
    "# Create an empty RDD with expected schema\n",
    "df_immigration = spark.createDataFrame(data = emp_RDD,schema = immigrationSchema)"
   ]
  },
  {
   "cell_type": "markdown",
   "metadata": {
    "editable": true
   },
   "source": [
    "## Insert data from Immigration data into df_immigration datafame"
   ]
  },
  {
   "cell_type": "code",
   "execution_count": 9,
   "metadata": {
    "editable": true
   },
   "outputs": [
    {
     "name": "stdout",
     "output_type": "stream",
     "text": [
      "1/12 files processed.\n",
      "2/12 files processed.\n",
      "3/12 files processed.\n",
      "4/12 files processed.\n",
      "5/12 files processed.\n",
      "6/12 files processed.\n",
      "7/12 files processed.\n",
      "8/12 files processed.\n",
      "9/12 files processed.\n",
      "10/12 files processed.\n",
      "11/12 files processed.\n",
      "12/12 files processed.\n"
     ]
    }
   ],
   "source": [
    "# iterate over files and process\n",
    "for i, datafile in enumerate(all_files, 1):\n",
    "        # read files in immigration data files\n",
    "        df_temp = spark.read.format('com.github.saurfang.sas.spark').load(datafile)\n",
    "        df_temp = df_temp\\\n",
    "                            .withColumn('cicid', col('cicid').cast(IntegerType()))\\\n",
    "                            .withColumn('i94yr', col('i94yr').cast(IntegerType()))\\\n",
    "                            .withColumn('i94mon', col('i94mon').cast(IntegerType()))\\\n",
    "                            .withColumn('i94cit', col('i94cit').cast(IntegerType()))\\\n",
    "                            .withColumn('i94res', col('i94res').cast(IntegerType()))\\\n",
    "                            .withColumn('i94mode', col('i94mode').cast(IntegerType()))\\\n",
    "                            .withColumn('i94visa', col('i94visa').cast(IntegerType()))\\\n",
    "                            .withColumn('count', col('count').cast(IntegerType()))\\\n",
    "                            .withColumn('biryear', col('biryear').cast(IntegerType()))\\\n",
    "                            .withColumn('i94bir', col('i94bir').cast(IntegerType()))\\\n",
    "                            .withColumn('admnum', col('admnum').cast(DecimalType(18, 0)))\n",
    "        \n",
    "        if datafile == all_files[4]:\n",
    "            df_temp = df_temp\\\n",
    "                                .drop('validres','delete_days','delete_mexl','delete_dup','delete_visa','delete_recdup')\n",
    "        df_immigration = df_immigration.union(df_temp)              \n",
    "        print('{}/{} files processed.'.format(i, num_files))"
   ]
  },
  {
   "cell_type": "markdown",
   "metadata": {
    "editable": true
   },
   "source": [
    "## View df_immigration datafame"
   ]
  },
  {
   "cell_type": "code",
   "execution_count": 10,
   "metadata": {
    "editable": true
   },
   "outputs": [
    {
     "data": {
      "text/html": [
       "<div>\n",
       "<style scoped>\n",
       "    .dataframe tbody tr th:only-of-type {\n",
       "        vertical-align: middle;\n",
       "    }\n",
       "\n",
       "    .dataframe tbody tr th {\n",
       "        vertical-align: top;\n",
       "    }\n",
       "\n",
       "    .dataframe thead th {\n",
       "        text-align: right;\n",
       "    }\n",
       "</style>\n",
       "<table border=\"1\" class=\"dataframe\">\n",
       "  <thead>\n",
       "    <tr style=\"text-align: right;\">\n",
       "      <th></th>\n",
       "      <th>cicid</th>\n",
       "      <th>i94yr</th>\n",
       "      <th>i94mon</th>\n",
       "      <th>i94cit</th>\n",
       "      <th>i94res</th>\n",
       "      <th>i94port</th>\n",
       "      <th>arrdate</th>\n",
       "      <th>i94mode</th>\n",
       "      <th>i94addr</th>\n",
       "      <th>depdate</th>\n",
       "      <th>...</th>\n",
       "      <th>entdepu</th>\n",
       "      <th>matflag</th>\n",
       "      <th>biryear</th>\n",
       "      <th>dtaddto</th>\n",
       "      <th>gender</th>\n",
       "      <th>insnum</th>\n",
       "      <th>airline</th>\n",
       "      <th>admnum</th>\n",
       "      <th>fltno</th>\n",
       "      <th>visatype</th>\n",
       "    </tr>\n",
       "  </thead>\n",
       "  <tbody>\n",
       "    <tr>\n",
       "      <th>0</th>\n",
       "      <td>6</td>\n",
       "      <td>2016</td>\n",
       "      <td>4</td>\n",
       "      <td>692</td>\n",
       "      <td>692</td>\n",
       "      <td>XXX</td>\n",
       "      <td>20573.0</td>\n",
       "      <td>NaN</td>\n",
       "      <td>None</td>\n",
       "      <td>NaN</td>\n",
       "      <td>...</td>\n",
       "      <td>U</td>\n",
       "      <td>None</td>\n",
       "      <td>1979</td>\n",
       "      <td>10282016</td>\n",
       "      <td>None</td>\n",
       "      <td>None</td>\n",
       "      <td>None</td>\n",
       "      <td>1897628485</td>\n",
       "      <td>None</td>\n",
       "      <td>B2</td>\n",
       "    </tr>\n",
       "    <tr>\n",
       "      <th>1</th>\n",
       "      <td>7</td>\n",
       "      <td>2016</td>\n",
       "      <td>4</td>\n",
       "      <td>254</td>\n",
       "      <td>276</td>\n",
       "      <td>ATL</td>\n",
       "      <td>20551.0</td>\n",
       "      <td>1.0</td>\n",
       "      <td>AL</td>\n",
       "      <td>NaN</td>\n",
       "      <td>...</td>\n",
       "      <td>Y</td>\n",
       "      <td>None</td>\n",
       "      <td>1991</td>\n",
       "      <td>D/S</td>\n",
       "      <td>M</td>\n",
       "      <td>None</td>\n",
       "      <td>None</td>\n",
       "      <td>3736796330</td>\n",
       "      <td>00296</td>\n",
       "      <td>F1</td>\n",
       "    </tr>\n",
       "    <tr>\n",
       "      <th>2</th>\n",
       "      <td>15</td>\n",
       "      <td>2016</td>\n",
       "      <td>4</td>\n",
       "      <td>101</td>\n",
       "      <td>101</td>\n",
       "      <td>WAS</td>\n",
       "      <td>20545.0</td>\n",
       "      <td>1.0</td>\n",
       "      <td>MI</td>\n",
       "      <td>20691.0</td>\n",
       "      <td>...</td>\n",
       "      <td>None</td>\n",
       "      <td>M</td>\n",
       "      <td>1961</td>\n",
       "      <td>09302016</td>\n",
       "      <td>M</td>\n",
       "      <td>None</td>\n",
       "      <td>OS</td>\n",
       "      <td>666643185</td>\n",
       "      <td>93</td>\n",
       "      <td>B2</td>\n",
       "    </tr>\n",
       "    <tr>\n",
       "      <th>3</th>\n",
       "      <td>16</td>\n",
       "      <td>2016</td>\n",
       "      <td>4</td>\n",
       "      <td>101</td>\n",
       "      <td>101</td>\n",
       "      <td>NYC</td>\n",
       "      <td>20545.0</td>\n",
       "      <td>1.0</td>\n",
       "      <td>MA</td>\n",
       "      <td>20567.0</td>\n",
       "      <td>...</td>\n",
       "      <td>None</td>\n",
       "      <td>M</td>\n",
       "      <td>1988</td>\n",
       "      <td>09302016</td>\n",
       "      <td>None</td>\n",
       "      <td>None</td>\n",
       "      <td>AA</td>\n",
       "      <td>92468461330</td>\n",
       "      <td>00199</td>\n",
       "      <td>B2</td>\n",
       "    </tr>\n",
       "    <tr>\n",
       "      <th>4</th>\n",
       "      <td>17</td>\n",
       "      <td>2016</td>\n",
       "      <td>4</td>\n",
       "      <td>101</td>\n",
       "      <td>101</td>\n",
       "      <td>NYC</td>\n",
       "      <td>20545.0</td>\n",
       "      <td>1.0</td>\n",
       "      <td>MA</td>\n",
       "      <td>20567.0</td>\n",
       "      <td>...</td>\n",
       "      <td>None</td>\n",
       "      <td>M</td>\n",
       "      <td>2012</td>\n",
       "      <td>09302016</td>\n",
       "      <td>None</td>\n",
       "      <td>None</td>\n",
       "      <td>AA</td>\n",
       "      <td>92468463130</td>\n",
       "      <td>00199</td>\n",
       "      <td>B2</td>\n",
       "    </tr>\n",
       "  </tbody>\n",
       "</table>\n",
       "<p>5 rows × 28 columns</p>\n",
       "</div>"
      ],
      "text/plain": [
       "   cicid  i94yr  i94mon  i94cit  i94res i94port  arrdate  i94mode i94addr  \\\n",
       "0      6   2016       4     692     692     XXX  20573.0      NaN    None   \n",
       "1      7   2016       4     254     276     ATL  20551.0      1.0      AL   \n",
       "2     15   2016       4     101     101     WAS  20545.0      1.0      MI   \n",
       "3     16   2016       4     101     101     NYC  20545.0      1.0      MA   \n",
       "4     17   2016       4     101     101     NYC  20545.0      1.0      MA   \n",
       "\n",
       "   depdate   ...     entdepu  matflag  biryear   dtaddto gender insnum  \\\n",
       "0      NaN   ...           U     None     1979  10282016   None   None   \n",
       "1      NaN   ...           Y     None     1991       D/S      M   None   \n",
       "2  20691.0   ...        None        M     1961  09302016      M   None   \n",
       "3  20567.0   ...        None        M     1988  09302016   None   None   \n",
       "4  20567.0   ...        None        M     2012  09302016   None   None   \n",
       "\n",
       "  airline       admnum  fltno visatype  \n",
       "0    None   1897628485   None       B2  \n",
       "1    None   3736796330  00296       F1  \n",
       "2      OS    666643185     93       B2  \n",
       "3      AA  92468461330  00199       B2  \n",
       "4      AA  92468463130  00199       B2  \n",
       "\n",
       "[5 rows x 28 columns]"
      ]
     },
     "execution_count": 10,
     "metadata": {},
     "output_type": "execute_result"
    }
   ],
   "source": [
    "# view data in 1st file in immigration date files\n",
    "pd.set_option('max_colwidth', 200)\n",
    "df_immigration.limit(5).toPandas()"
   ]
  },
  {
   "cell_type": "markdown",
   "metadata": {
    "editable": true
   },
   "source": [
    "## Create Fact Table: Immigrations"
   ]
  },
  {
   "cell_type": "code",
   "execution_count": 10,
   "metadata": {
    "editable": true
   },
   "outputs": [],
   "source": [
    "# Create Fact Table: Immigrations\n",
    "Immigrations = df_immigration.select('cicid', 'i94yr', 'i94mon','i94addr', 'i94port', 'i94mode','i94visa', 'arrdate', 'depdate' ,'matflag')\\\n",
    "                    .distinct()\\\n",
    "                    .withColumn(\"immigration_id\", monotonically_increasing_id())\n",
    "    "
   ]
  },
  {
   "cell_type": "markdown",
   "metadata": {
    "editable": true
   },
   "source": [
    "# Rename Columns in Fact Table: Immigrations"
   ]
  },
  {
   "cell_type": "code",
   "execution_count": 11,
   "metadata": {
    "editable": true
   },
   "outputs": [],
   "source": [
    "# Rename Columns in Fact Table\n",
    "new_column_name = ['cic_id', 'year', 'month', 'state_code','port_code', 'mode_code','visa_code',\\\n",
    "                   'arrival_date','departure_date','match_flag','immigration_id']\n",
    "Immigrations = Immigrations.toDF(*new_column_name)"
   ]
  },
  {
   "cell_type": "markdown",
   "metadata": {
    "editable": true
   },
   "source": [
    "## View fact table: Immigrations"
   ]
  },
  {
   "cell_type": "code",
   "execution_count": 13,
   "metadata": {
    "editable": true
   },
   "outputs": [
    {
     "data": {
      "text/html": [
       "<div>\n",
       "<style scoped>\n",
       "    .dataframe tbody tr th:only-of-type {\n",
       "        vertical-align: middle;\n",
       "    }\n",
       "\n",
       "    .dataframe tbody tr th {\n",
       "        vertical-align: top;\n",
       "    }\n",
       "\n",
       "    .dataframe thead th {\n",
       "        text-align: right;\n",
       "    }\n",
       "</style>\n",
       "<table border=\"1\" class=\"dataframe\">\n",
       "  <thead>\n",
       "    <tr style=\"text-align: right;\">\n",
       "      <th></th>\n",
       "      <th>cic_id</th>\n",
       "      <th>year</th>\n",
       "      <th>month</th>\n",
       "      <th>state_code</th>\n",
       "      <th>port_code</th>\n",
       "      <th>mode_code</th>\n",
       "      <th>visa_code</th>\n",
       "      <th>arrival_date</th>\n",
       "      <th>departure_date</th>\n",
       "      <th>match_flag</th>\n",
       "      <th>immigration_id</th>\n",
       "    </tr>\n",
       "  </thead>\n",
       "  <tbody>\n",
       "    <tr>\n",
       "      <th>0</th>\n",
       "      <td>219</td>\n",
       "      <td>2016</td>\n",
       "      <td>4</td>\n",
       "      <td>NY</td>\n",
       "      <td>NYC</td>\n",
       "      <td>1</td>\n",
       "      <td>1</td>\n",
       "      <td>20545.0</td>\n",
       "      <td>20549.0</td>\n",
       "      <td>M</td>\n",
       "      <td>0</td>\n",
       "    </tr>\n",
       "    <tr>\n",
       "      <th>1</th>\n",
       "      <td>228</td>\n",
       "      <td>2016</td>\n",
       "      <td>4</td>\n",
       "      <td>NY</td>\n",
       "      <td>NYC</td>\n",
       "      <td>1</td>\n",
       "      <td>2</td>\n",
       "      <td>20545.0</td>\n",
       "      <td>20550.0</td>\n",
       "      <td>M</td>\n",
       "      <td>1</td>\n",
       "    </tr>\n",
       "    <tr>\n",
       "      <th>2</th>\n",
       "      <td>304</td>\n",
       "      <td>2016</td>\n",
       "      <td>4</td>\n",
       "      <td>NY</td>\n",
       "      <td>NYC</td>\n",
       "      <td>1</td>\n",
       "      <td>1</td>\n",
       "      <td>20545.0</td>\n",
       "      <td>20553.0</td>\n",
       "      <td>M</td>\n",
       "      <td>2</td>\n",
       "    </tr>\n",
       "    <tr>\n",
       "      <th>3</th>\n",
       "      <td>326</td>\n",
       "      <td>2016</td>\n",
       "      <td>4</td>\n",
       "      <td>CA</td>\n",
       "      <td>LOS</td>\n",
       "      <td>1</td>\n",
       "      <td>2</td>\n",
       "      <td>20545.0</td>\n",
       "      <td>20547.0</td>\n",
       "      <td>M</td>\n",
       "      <td>3</td>\n",
       "    </tr>\n",
       "    <tr>\n",
       "      <th>4</th>\n",
       "      <td>698</td>\n",
       "      <td>2016</td>\n",
       "      <td>4</td>\n",
       "      <td>IL</td>\n",
       "      <td>NYC</td>\n",
       "      <td>1</td>\n",
       "      <td>2</td>\n",
       "      <td>20545.0</td>\n",
       "      <td>20548.0</td>\n",
       "      <td>M</td>\n",
       "      <td>4</td>\n",
       "    </tr>\n",
       "  </tbody>\n",
       "</table>\n",
       "</div>"
      ],
      "text/plain": [
       "   cic_id  year  month state_code port_code  mode_code  visa_code  \\\n",
       "0     219  2016      4         NY       NYC          1          1   \n",
       "1     228  2016      4         NY       NYC          1          2   \n",
       "2     304  2016      4         NY       NYC          1          1   \n",
       "3     326  2016      4         CA       LOS          1          2   \n",
       "4     698  2016      4         IL       NYC          1          2   \n",
       "\n",
       "   arrival_date  departure_date match_flag  immigration_id  \n",
       "0       20545.0         20549.0          M               0  \n",
       "1       20545.0         20550.0          M               1  \n",
       "2       20545.0         20553.0          M               2  \n",
       "3       20545.0         20547.0          M               3  \n",
       "4       20545.0         20548.0          M               4  "
      ]
     },
     "execution_count": 13,
     "metadata": {},
     "output_type": "execute_result"
    }
   ],
   "source": [
    "# view fact table: Immigrations\n",
    "Immigrations.limit(5).toPandas()"
   ]
  },
  {
   "cell_type": "markdown",
   "metadata": {
    "editable": true
   },
   "source": [
    "## Define function to convert to date format"
   ]
  },
  {
   "cell_type": "code",
   "execution_count": 12,
   "metadata": {
    "editable": true
   },
   "outputs": [],
   "source": [
    "def Convert_SAS_to_date(date):\n",
    "    if date is not None:\n",
    "        return pd.to_timedelta(date, unit='D') + pd.Timestamp('1960-1-1')\n",
    "Convert_SAS_to_date_udf = udf(Convert_SAS_to_date, DateType())"
   ]
  },
  {
   "cell_type": "markdown",
   "metadata": {
    "editable": true
   },
   "source": [
    "## Convert both arrival and departure date to date format"
   ]
  },
  {
   "cell_type": "code",
   "execution_count": 13,
   "metadata": {
    "editable": true
   },
   "outputs": [],
   "source": [
    "# convert both arrival and departure date to date format\n",
    "Immigrations = Immigrations.withColumn('arrival_date',Convert_SAS_to_date_udf(Immigrations['arrival_date']))\n",
    "Immigrations = Immigrations.withColumn('departure_date',Convert_SAS_to_date_udf(Immigrations['departure_date']))"
   ]
  },
  {
   "cell_type": "markdown",
   "metadata": {
    "editable": true
   },
   "source": [
    "## View fact table after adjustments"
   ]
  },
  {
   "cell_type": "code",
   "execution_count": 16,
   "metadata": {
    "editable": true
   },
   "outputs": [
    {
     "data": {
      "text/html": [
       "<div>\n",
       "<style scoped>\n",
       "    .dataframe tbody tr th:only-of-type {\n",
       "        vertical-align: middle;\n",
       "    }\n",
       "\n",
       "    .dataframe tbody tr th {\n",
       "        vertical-align: top;\n",
       "    }\n",
       "\n",
       "    .dataframe thead th {\n",
       "        text-align: right;\n",
       "    }\n",
       "</style>\n",
       "<table border=\"1\" class=\"dataframe\">\n",
       "  <thead>\n",
       "    <tr style=\"text-align: right;\">\n",
       "      <th></th>\n",
       "      <th>cic_id</th>\n",
       "      <th>year</th>\n",
       "      <th>month</th>\n",
       "      <th>state_code</th>\n",
       "      <th>port_code</th>\n",
       "      <th>mode_code</th>\n",
       "      <th>visa_code</th>\n",
       "      <th>arrival_date</th>\n",
       "      <th>departure_date</th>\n",
       "      <th>match_flag</th>\n",
       "      <th>immigration_id</th>\n",
       "    </tr>\n",
       "  </thead>\n",
       "  <tbody>\n",
       "    <tr>\n",
       "      <th>0</th>\n",
       "      <td>219</td>\n",
       "      <td>2016</td>\n",
       "      <td>4</td>\n",
       "      <td>NY</td>\n",
       "      <td>NYC</td>\n",
       "      <td>1</td>\n",
       "      <td>1</td>\n",
       "      <td>2016-04-01</td>\n",
       "      <td>2016-04-05</td>\n",
       "      <td>M</td>\n",
       "      <td>0</td>\n",
       "    </tr>\n",
       "    <tr>\n",
       "      <th>1</th>\n",
       "      <td>228</td>\n",
       "      <td>2016</td>\n",
       "      <td>4</td>\n",
       "      <td>NY</td>\n",
       "      <td>NYC</td>\n",
       "      <td>1</td>\n",
       "      <td>2</td>\n",
       "      <td>2016-04-01</td>\n",
       "      <td>2016-04-06</td>\n",
       "      <td>M</td>\n",
       "      <td>1</td>\n",
       "    </tr>\n",
       "    <tr>\n",
       "      <th>2</th>\n",
       "      <td>304</td>\n",
       "      <td>2016</td>\n",
       "      <td>4</td>\n",
       "      <td>NY</td>\n",
       "      <td>NYC</td>\n",
       "      <td>1</td>\n",
       "      <td>1</td>\n",
       "      <td>2016-04-01</td>\n",
       "      <td>2016-04-09</td>\n",
       "      <td>M</td>\n",
       "      <td>2</td>\n",
       "    </tr>\n",
       "    <tr>\n",
       "      <th>3</th>\n",
       "      <td>326</td>\n",
       "      <td>2016</td>\n",
       "      <td>4</td>\n",
       "      <td>CA</td>\n",
       "      <td>LOS</td>\n",
       "      <td>1</td>\n",
       "      <td>2</td>\n",
       "      <td>2016-04-01</td>\n",
       "      <td>2016-04-03</td>\n",
       "      <td>M</td>\n",
       "      <td>3</td>\n",
       "    </tr>\n",
       "    <tr>\n",
       "      <th>4</th>\n",
       "      <td>698</td>\n",
       "      <td>2016</td>\n",
       "      <td>4</td>\n",
       "      <td>IL</td>\n",
       "      <td>NYC</td>\n",
       "      <td>1</td>\n",
       "      <td>2</td>\n",
       "      <td>2016-04-01</td>\n",
       "      <td>2016-04-04</td>\n",
       "      <td>M</td>\n",
       "      <td>4</td>\n",
       "    </tr>\n",
       "  </tbody>\n",
       "</table>\n",
       "</div>"
      ],
      "text/plain": [
       "   cic_id  year  month state_code port_code  mode_code  visa_code  \\\n",
       "0     219  2016      4         NY       NYC          1          1   \n",
       "1     228  2016      4         NY       NYC          1          2   \n",
       "2     304  2016      4         NY       NYC          1          1   \n",
       "3     326  2016      4         CA       LOS          1          2   \n",
       "4     698  2016      4         IL       NYC          1          2   \n",
       "\n",
       "  arrival_date departure_date match_flag  immigration_id  \n",
       "0   2016-04-01     2016-04-05          M               0  \n",
       "1   2016-04-01     2016-04-06          M               1  \n",
       "2   2016-04-01     2016-04-09          M               2  \n",
       "3   2016-04-01     2016-04-03          M               3  \n",
       "4   2016-04-01     2016-04-04          M               4  "
      ]
     },
     "execution_count": 16,
     "metadata": {},
     "output_type": "execute_result"
    }
   ],
   "source": [
    "# view fact table after adjustments\n",
    "Immigrations.limit(5).toPandas()"
   ]
  },
  {
   "cell_type": "markdown",
   "metadata": {
    "editable": true
   },
   "source": [
    "## Create 1st Dimension Table: Immigrants"
   ]
  },
  {
   "cell_type": "code",
   "execution_count": 13,
   "metadata": {
    "editable": true
   },
   "outputs": [],
   "source": [
    "#Create 1st Dimension Table: Immigrants\n",
    "Immigrants = df_immigration.select('cicid', 'i94cit', 'i94res', 'i94bir', 'gender', 'insnum')\\\n",
    "                     .distinct()\\\n",
    "                     .withColumn(\"immigrants_id\", monotonically_increasing_id())"
   ]
  },
  {
   "cell_type": "markdown",
   "metadata": {
    "editable": true
   },
   "source": [
    "## Rename Columns for 1st Dimension Table: Immigrants"
   ]
  },
  {
   "cell_type": "code",
   "execution_count": 19,
   "metadata": {
    "editable": true
   },
   "outputs": [
    {
     "data": {
      "text/html": [
       "<div>\n",
       "<style scoped>\n",
       "    .dataframe tbody tr th:only-of-type {\n",
       "        vertical-align: middle;\n",
       "    }\n",
       "\n",
       "    .dataframe tbody tr th {\n",
       "        vertical-align: top;\n",
       "    }\n",
       "\n",
       "    .dataframe thead th {\n",
       "        text-align: right;\n",
       "    }\n",
       "</style>\n",
       "<table border=\"1\" class=\"dataframe\">\n",
       "  <thead>\n",
       "    <tr style=\"text-align: right;\">\n",
       "      <th></th>\n",
       "      <th>cic_id</th>\n",
       "      <th>citizen_country</th>\n",
       "      <th>residence_country</th>\n",
       "      <th>age</th>\n",
       "      <th>gender</th>\n",
       "      <th>ins_num</th>\n",
       "      <th>immigrants_id</th>\n",
       "    </tr>\n",
       "  </thead>\n",
       "  <tbody>\n",
       "    <tr>\n",
       "      <th>0</th>\n",
       "      <td>34</td>\n",
       "      <td>101</td>\n",
       "      <td>101</td>\n",
       "      <td>48</td>\n",
       "      <td>M</td>\n",
       "      <td>None</td>\n",
       "      <td>0</td>\n",
       "    </tr>\n",
       "    <tr>\n",
       "      <th>1</th>\n",
       "      <td>449</td>\n",
       "      <td>103</td>\n",
       "      <td>103</td>\n",
       "      <td>37</td>\n",
       "      <td>None</td>\n",
       "      <td>None</td>\n",
       "      <td>1</td>\n",
       "    </tr>\n",
       "    <tr>\n",
       "      <th>2</th>\n",
       "      <td>481</td>\n",
       "      <td>103</td>\n",
       "      <td>103</td>\n",
       "      <td>34</td>\n",
       "      <td>None</td>\n",
       "      <td>None</td>\n",
       "      <td>2</td>\n",
       "    </tr>\n",
       "    <tr>\n",
       "      <th>3</th>\n",
       "      <td>654</td>\n",
       "      <td>103</td>\n",
       "      <td>103</td>\n",
       "      <td>31</td>\n",
       "      <td>F</td>\n",
       "      <td>None</td>\n",
       "      <td>3</td>\n",
       "    </tr>\n",
       "    <tr>\n",
       "      <th>4</th>\n",
       "      <td>894</td>\n",
       "      <td>104</td>\n",
       "      <td>104</td>\n",
       "      <td>17</td>\n",
       "      <td>F</td>\n",
       "      <td>None</td>\n",
       "      <td>4</td>\n",
       "    </tr>\n",
       "  </tbody>\n",
       "</table>\n",
       "</div>"
      ],
      "text/plain": [
       "   cic_id  citizen_country  residence_country  age gender ins_num  \\\n",
       "0      34              101                101   48      M    None   \n",
       "1     449              103                103   37   None    None   \n",
       "2     481              103                103   34   None    None   \n",
       "3     654              103                103   31      F    None   \n",
       "4     894              104                104   17      F    None   \n",
       "\n",
       "   immigrants_id  \n",
       "0              0  \n",
       "1              1  \n",
       "2              2  \n",
       "3              3  \n",
       "4              4  "
      ]
     },
     "execution_count": 19,
     "metadata": {},
     "output_type": "execute_result"
    }
   ],
   "source": [
    "# Rename Columns for 1st Dimension Table: Immigrants\n",
    "new_column_name = ['cic_id','citizen_country', 'residence_country','age','gender','ins_num','immigrants_id']\n",
    "Immigrants = Immigrants.toDF(*new_column_name)\n",
    "Immigrants.limit(5).toPandas()"
   ]
  },
  {
   "cell_type": "markdown",
   "metadata": {
    "editable": true
   },
   "source": [
    "## Create 2nd Dimension Table: Airports"
   ]
  },
  {
   "cell_type": "code",
   "execution_count": 10,
   "metadata": {
    "editable": true
   },
   "outputs": [],
   "source": [
    "#Create 2nd Dimension Table: Airports\n",
    "Airports = df_immigration.select('cicid','airline','fltno','admnum','visatype')\\\n",
    "                    .distinct()\\\n",
    "                    .withColumn(\"Airports_id\", monotonically_increasing_id())"
   ]
  },
  {
   "cell_type": "markdown",
   "metadata": {
    "editable": true
   },
   "source": [
    "## Rename Columns 2nd Dimension Table: Airports"
   ]
  },
  {
   "cell_type": "code",
   "execution_count": 21,
   "metadata": {
    "editable": true
   },
   "outputs": [
    {
     "data": {
      "text/html": [
       "<div>\n",
       "<style scoped>\n",
       "    .dataframe tbody tr th:only-of-type {\n",
       "        vertical-align: middle;\n",
       "    }\n",
       "\n",
       "    .dataframe tbody tr th {\n",
       "        vertical-align: top;\n",
       "    }\n",
       "\n",
       "    .dataframe thead th {\n",
       "        text-align: right;\n",
       "    }\n",
       "</style>\n",
       "<table border=\"1\" class=\"dataframe\">\n",
       "  <thead>\n",
       "    <tr style=\"text-align: right;\">\n",
       "      <th></th>\n",
       "      <th>cic_id</th>\n",
       "      <th>airline</th>\n",
       "      <th>flight_number</th>\n",
       "      <th>admin_number</th>\n",
       "      <th>visa_type</th>\n",
       "      <th>Airports_id</th>\n",
       "    </tr>\n",
       "  </thead>\n",
       "  <tbody>\n",
       "    <tr>\n",
       "      <th>0</th>\n",
       "      <td>70</td>\n",
       "      <td>DL</td>\n",
       "      <td>00075</td>\n",
       "      <td>55445916233</td>\n",
       "      <td>WT</td>\n",
       "      <td>0</td>\n",
       "    </tr>\n",
       "    <tr>\n",
       "      <th>1</th>\n",
       "      <td>223</td>\n",
       "      <td>OS</td>\n",
       "      <td>00087</td>\n",
       "      <td>55435222433</td>\n",
       "      <td>WT</td>\n",
       "      <td>1</td>\n",
       "    </tr>\n",
       "    <tr>\n",
       "      <th>2</th>\n",
       "      <td>591</td>\n",
       "      <td>WK</td>\n",
       "      <td>00004</td>\n",
       "      <td>55455327733</td>\n",
       "      <td>WT</td>\n",
       "      <td>2</td>\n",
       "    </tr>\n",
       "    <tr>\n",
       "      <th>3</th>\n",
       "      <td>734</td>\n",
       "      <td>OS</td>\n",
       "      <td>00097</td>\n",
       "      <td>55430184433</td>\n",
       "      <td>WT</td>\n",
       "      <td>3</td>\n",
       "    </tr>\n",
       "    <tr>\n",
       "      <th>4</th>\n",
       "      <td>741</td>\n",
       "      <td>NK</td>\n",
       "      <td>00240</td>\n",
       "      <td>55453003033</td>\n",
       "      <td>WT</td>\n",
       "      <td>4</td>\n",
       "    </tr>\n",
       "  </tbody>\n",
       "</table>\n",
       "</div>"
      ],
      "text/plain": [
       "   cic_id airline flight_number admin_number visa_type  Airports_id\n",
       "0      70      DL         00075  55445916233        WT            0\n",
       "1     223      OS         00087  55435222433        WT            1\n",
       "2     591      WK         00004  55455327733        WT            2\n",
       "3     734      OS         00097  55430184433        WT            3\n",
       "4     741      NK         00240  55453003033        WT            4"
      ]
     },
     "execution_count": 21,
     "metadata": {},
     "output_type": "execute_result"
    }
   ],
   "source": [
    "#Rename Columns 2nd Dimension Table: Airports\n",
    "new_column_name = ['cic_id','airline','flight_number','admin_number','visa_type','Airports_id']\n",
    "Airports = Airports.toDF(*new_column_name)\n",
    "Airports.limit(5).toPandas()"
   ]
  },
  {
   "cell_type": "markdown",
   "metadata": {
    "editable": true
   },
   "source": [
    "## Read demographic data file"
   ]
  },
  {
   "cell_type": "code",
   "execution_count": 23,
   "metadata": {
    "editable": true
   },
   "outputs": [],
   "source": [
    "# read demographic data file\n",
    "df_demographic = spark.read.format('csv').load(\"us-cities-demographics.csv\",delimiter=';',header=True)\n",
    "df_demographic = df_demographic\\\n",
    "                    .withColumn('City',upper(df_demographic['city']))\\\n",
    "                    .withColumn('State',upper(df_demographic['State']))\\\n",
    "                    .withColumn('Male Population', col('Male Population').cast(IntegerType()))\\\n",
    "                    .withColumn('Female Population', col('Female Population').cast(IntegerType()))\\\n",
    "                    .withColumn('Total Population', col('Total Population').cast(IntegerType()))\\\n",
    "                    .withColumn('Number of Veterans', col('Number of Veterans').cast(IntegerType()))\\\n",
    "                    .withColumn('Foreign-born', col('Foreign-born').cast(IntegerType()))\\\n",
    "                    .withColumn('Median Age', col('Median Age').cast(DoubleType()))\\\n",
    "                    .withColumn('Average Household Size', col('Average Household Size').cast(DoubleType()))"
   ]
  },
  {
   "cell_type": "markdown",
   "metadata": {
    "editable": true
   },
   "source": [
    "## View demographic data file"
   ]
  },
  {
   "cell_type": "code",
   "execution_count": 24,
   "metadata": {
    "editable": true
   },
   "outputs": [
    {
     "data": {
      "text/html": [
       "<div>\n",
       "<style scoped>\n",
       "    .dataframe tbody tr th:only-of-type {\n",
       "        vertical-align: middle;\n",
       "    }\n",
       "\n",
       "    .dataframe tbody tr th {\n",
       "        vertical-align: top;\n",
       "    }\n",
       "\n",
       "    .dataframe thead th {\n",
       "        text-align: right;\n",
       "    }\n",
       "</style>\n",
       "<table border=\"1\" class=\"dataframe\">\n",
       "  <thead>\n",
       "    <tr style=\"text-align: right;\">\n",
       "      <th></th>\n",
       "      <th>City</th>\n",
       "      <th>State</th>\n",
       "      <th>Median Age</th>\n",
       "      <th>Male Population</th>\n",
       "      <th>Female Population</th>\n",
       "      <th>Total Population</th>\n",
       "      <th>Number of Veterans</th>\n",
       "      <th>Foreign-born</th>\n",
       "      <th>Average Household Size</th>\n",
       "      <th>State Code</th>\n",
       "      <th>Race</th>\n",
       "      <th>Count</th>\n",
       "    </tr>\n",
       "  </thead>\n",
       "  <tbody>\n",
       "    <tr>\n",
       "      <th>0</th>\n",
       "      <td>SILVER SPRING</td>\n",
       "      <td>MARYLAND</td>\n",
       "      <td>33.8</td>\n",
       "      <td>40601</td>\n",
       "      <td>41862</td>\n",
       "      <td>82463</td>\n",
       "      <td>1562</td>\n",
       "      <td>30908</td>\n",
       "      <td>2.60</td>\n",
       "      <td>MD</td>\n",
       "      <td>Hispanic or Latino</td>\n",
       "      <td>25924</td>\n",
       "    </tr>\n",
       "    <tr>\n",
       "      <th>1</th>\n",
       "      <td>QUINCY</td>\n",
       "      <td>MASSACHUSETTS</td>\n",
       "      <td>41.0</td>\n",
       "      <td>44129</td>\n",
       "      <td>49500</td>\n",
       "      <td>93629</td>\n",
       "      <td>4147</td>\n",
       "      <td>32935</td>\n",
       "      <td>2.39</td>\n",
       "      <td>MA</td>\n",
       "      <td>White</td>\n",
       "      <td>58723</td>\n",
       "    </tr>\n",
       "    <tr>\n",
       "      <th>2</th>\n",
       "      <td>HOOVER</td>\n",
       "      <td>ALABAMA</td>\n",
       "      <td>38.5</td>\n",
       "      <td>38040</td>\n",
       "      <td>46799</td>\n",
       "      <td>84839</td>\n",
       "      <td>4819</td>\n",
       "      <td>8229</td>\n",
       "      <td>2.58</td>\n",
       "      <td>AL</td>\n",
       "      <td>Asian</td>\n",
       "      <td>4759</td>\n",
       "    </tr>\n",
       "    <tr>\n",
       "      <th>3</th>\n",
       "      <td>RANCHO CUCAMONGA</td>\n",
       "      <td>CALIFORNIA</td>\n",
       "      <td>34.5</td>\n",
       "      <td>88127</td>\n",
       "      <td>87105</td>\n",
       "      <td>175232</td>\n",
       "      <td>5821</td>\n",
       "      <td>33878</td>\n",
       "      <td>3.18</td>\n",
       "      <td>CA</td>\n",
       "      <td>Black or African-American</td>\n",
       "      <td>24437</td>\n",
       "    </tr>\n",
       "    <tr>\n",
       "      <th>4</th>\n",
       "      <td>NEWARK</td>\n",
       "      <td>NEW JERSEY</td>\n",
       "      <td>34.6</td>\n",
       "      <td>138040</td>\n",
       "      <td>143873</td>\n",
       "      <td>281913</td>\n",
       "      <td>5829</td>\n",
       "      <td>86253</td>\n",
       "      <td>2.73</td>\n",
       "      <td>NJ</td>\n",
       "      <td>White</td>\n",
       "      <td>76402</td>\n",
       "    </tr>\n",
       "  </tbody>\n",
       "</table>\n",
       "</div>"
      ],
      "text/plain": [
       "               City          State  Median Age  Male Population  \\\n",
       "0     SILVER SPRING       MARYLAND        33.8            40601   \n",
       "1            QUINCY  MASSACHUSETTS        41.0            44129   \n",
       "2            HOOVER        ALABAMA        38.5            38040   \n",
       "3  RANCHO CUCAMONGA     CALIFORNIA        34.5            88127   \n",
       "4            NEWARK     NEW JERSEY        34.6           138040   \n",
       "\n",
       "   Female Population  Total Population  Number of Veterans  Foreign-born  \\\n",
       "0              41862             82463                1562         30908   \n",
       "1              49500             93629                4147         32935   \n",
       "2              46799             84839                4819          8229   \n",
       "3              87105            175232                5821         33878   \n",
       "4             143873            281913                5829         86253   \n",
       "\n",
       "   Average Household Size State Code                       Race  Count  \n",
       "0                    2.60         MD         Hispanic or Latino  25924  \n",
       "1                    2.39         MA                      White  58723  \n",
       "2                    2.58         AL                      Asian   4759  \n",
       "3                    3.18         CA  Black or African-American  24437  \n",
       "4                    2.73         NJ                      White  76402  "
      ]
     },
     "execution_count": 24,
     "metadata": {},
     "output_type": "execute_result"
    }
   ],
   "source": [
    "# view demographic data file\n",
    "df_demographic.limit(5).toPandas()"
   ]
  },
  {
   "cell_type": "markdown",
   "metadata": {
    "editable": true
   },
   "source": [
    "## Create Dimension Table: Populations"
   ]
  },
  {
   "cell_type": "code",
   "execution_count": 25,
   "metadata": {
    "editable": true
   },
   "outputs": [],
   "source": [
    "#Create Dimension Table: Populations\n",
    "Populations = df_demographic.select('City','State','State Code','Male Population','Female Population',\\\n",
    "                                        'Total Population','Number of Veterans','Foreign-born','Race')\\\n",
    "                    .distinct()\\\n",
    "                    .withColumn(\"population_id\", monotonically_increasing_id())"
   ]
  },
  {
   "cell_type": "markdown",
   "metadata": {
    "editable": true
   },
   "source": [
    "## Rename Columns for Dimension Table: Populations"
   ]
  },
  {
   "cell_type": "code",
   "execution_count": 26,
   "metadata": {
    "editable": true
   },
   "outputs": [
    {
     "data": {
      "text/html": [
       "<div>\n",
       "<style scoped>\n",
       "    .dataframe tbody tr th:only-of-type {\n",
       "        vertical-align: middle;\n",
       "    }\n",
       "\n",
       "    .dataframe tbody tr th {\n",
       "        vertical-align: top;\n",
       "    }\n",
       "\n",
       "    .dataframe thead th {\n",
       "        text-align: right;\n",
       "    }\n",
       "</style>\n",
       "<table border=\"1\" class=\"dataframe\">\n",
       "  <thead>\n",
       "    <tr style=\"text-align: right;\">\n",
       "      <th></th>\n",
       "      <th>city</th>\n",
       "      <th>state</th>\n",
       "      <th>state_code</th>\n",
       "      <th>male_population</th>\n",
       "      <th>female_population</th>\n",
       "      <th>total_population</th>\n",
       "      <th>num_of_veterans</th>\n",
       "      <th>foreign_born</th>\n",
       "      <th>race</th>\n",
       "      <th>population_id</th>\n",
       "    </tr>\n",
       "  </thead>\n",
       "  <tbody>\n",
       "    <tr>\n",
       "      <th>0</th>\n",
       "      <td>PARMA</td>\n",
       "      <td>OHIO</td>\n",
       "      <td>OH</td>\n",
       "      <td>38425</td>\n",
       "      <td>41518</td>\n",
       "      <td>79943</td>\n",
       "      <td>5028</td>\n",
       "      <td>6909</td>\n",
       "      <td>Asian</td>\n",
       "      <td>0</td>\n",
       "    </tr>\n",
       "    <tr>\n",
       "      <th>1</th>\n",
       "      <td>MADISON</td>\n",
       "      <td>WISCONSIN</td>\n",
       "      <td>WI</td>\n",
       "      <td>122596</td>\n",
       "      <td>126360</td>\n",
       "      <td>248956</td>\n",
       "      <td>9707</td>\n",
       "      <td>30090</td>\n",
       "      <td>American Indian and Alaska Native</td>\n",
       "      <td>1</td>\n",
       "    </tr>\n",
       "    <tr>\n",
       "      <th>2</th>\n",
       "      <td>SKOKIE</td>\n",
       "      <td>ILLINOIS</td>\n",
       "      <td>IL</td>\n",
       "      <td>31382</td>\n",
       "      <td>33437</td>\n",
       "      <td>64819</td>\n",
       "      <td>1066</td>\n",
       "      <td>27424</td>\n",
       "      <td>Hispanic or Latino</td>\n",
       "      <td>2</td>\n",
       "    </tr>\n",
       "    <tr>\n",
       "      <th>3</th>\n",
       "      <td>YUMA</td>\n",
       "      <td>ARIZONA</td>\n",
       "      <td>AZ</td>\n",
       "      <td>48298</td>\n",
       "      <td>45847</td>\n",
       "      <td>94145</td>\n",
       "      <td>7182</td>\n",
       "      <td>19326</td>\n",
       "      <td>Hispanic or Latino</td>\n",
       "      <td>3</td>\n",
       "    </tr>\n",
       "    <tr>\n",
       "      <th>4</th>\n",
       "      <td>NORTH RICHLAND HILLS</td>\n",
       "      <td>TEXAS</td>\n",
       "      <td>TX</td>\n",
       "      <td>35257</td>\n",
       "      <td>33948</td>\n",
       "      <td>69205</td>\n",
       "      <td>5175</td>\n",
       "      <td>7854</td>\n",
       "      <td>Hispanic or Latino</td>\n",
       "      <td>4</td>\n",
       "    </tr>\n",
       "  </tbody>\n",
       "</table>\n",
       "</div>"
      ],
      "text/plain": [
       "                   city      state state_code  male_population  \\\n",
       "0                 PARMA       OHIO         OH            38425   \n",
       "1               MADISON  WISCONSIN         WI           122596   \n",
       "2                SKOKIE   ILLINOIS         IL            31382   \n",
       "3                  YUMA    ARIZONA         AZ            48298   \n",
       "4  NORTH RICHLAND HILLS      TEXAS         TX            35257   \n",
       "\n",
       "   female_population  total_population  num_of_veterans  foreign_born  \\\n",
       "0              41518             79943             5028          6909   \n",
       "1             126360            248956             9707         30090   \n",
       "2              33437             64819             1066         27424   \n",
       "3              45847             94145             7182         19326   \n",
       "4              33948             69205             5175          7854   \n",
       "\n",
       "                                race  population_id  \n",
       "0                              Asian              0  \n",
       "1  American Indian and Alaska Native              1  \n",
       "2                 Hispanic or Latino              2  \n",
       "3                 Hispanic or Latino              3  \n",
       "4                 Hispanic or Latino              4  "
      ]
     },
     "execution_count": 26,
     "metadata": {},
     "output_type": "execute_result"
    }
   ],
   "source": [
    "#Rename Columns for Dimension Table: Populations\n",
    "new_column_name =['city','state','state_code','male_population','female_population','total_population'\\\n",
    "                      ,'num_of_veterans','foreign_born','race','population_id']\n",
    "Populations = Populations.toDF(*new_column_name)\n",
    "Populations.limit(5).toPandas()"
   ]
  },
  {
   "cell_type": "markdown",
   "metadata": {
    "editable": true
   },
   "source": [
    "## Create 2nd Dimension Table: Population_Statistics"
   ]
  },
  {
   "cell_type": "code",
   "execution_count": 27,
   "metadata": {
    "editable": true
   },
   "outputs": [],
   "source": [
    "#Create 2nd Dimension Table: Population_Statistics\n",
    "Population_Statistics = df_demographic.select('City','State','State Code','Median Age','Average Household Size')\\\n",
    "                    .distinct()\\\n",
    "                    .withColumn(\"pop_statistics_id\", monotonically_increasing_id())"
   ]
  },
  {
   "cell_type": "markdown",
   "metadata": {
    "editable": true
   },
   "source": [
    "## Rename Columns for 2nd Dimension Table: Population_Statistics"
   ]
  },
  {
   "cell_type": "code",
   "execution_count": 28,
   "metadata": {
    "editable": true
   },
   "outputs": [
    {
     "data": {
      "text/html": [
       "<div>\n",
       "<style scoped>\n",
       "    .dataframe tbody tr th:only-of-type {\n",
       "        vertical-align: middle;\n",
       "    }\n",
       "\n",
       "    .dataframe tbody tr th {\n",
       "        vertical-align: top;\n",
       "    }\n",
       "\n",
       "    .dataframe thead th {\n",
       "        text-align: right;\n",
       "    }\n",
       "</style>\n",
       "<table border=\"1\" class=\"dataframe\">\n",
       "  <thead>\n",
       "    <tr style=\"text-align: right;\">\n",
       "      <th></th>\n",
       "      <th>city</th>\n",
       "      <th>state</th>\n",
       "      <th>state_code</th>\n",
       "      <th>median_age</th>\n",
       "      <th>avg_household_size</th>\n",
       "      <th>pop_statistics_id</th>\n",
       "    </tr>\n",
       "  </thead>\n",
       "  <tbody>\n",
       "    <tr>\n",
       "      <th>0</th>\n",
       "      <td>CLARKSVILLE</td>\n",
       "      <td>TENNESSEE</td>\n",
       "      <td>TN</td>\n",
       "      <td>29.7</td>\n",
       "      <td>2.64</td>\n",
       "      <td>0</td>\n",
       "    </tr>\n",
       "    <tr>\n",
       "      <th>1</th>\n",
       "      <td>RACINE</td>\n",
       "      <td>WISCONSIN</td>\n",
       "      <td>WI</td>\n",
       "      <td>33.7</td>\n",
       "      <td>2.56</td>\n",
       "      <td>1</td>\n",
       "    </tr>\n",
       "    <tr>\n",
       "      <th>2</th>\n",
       "      <td>TUSTIN</td>\n",
       "      <td>CALIFORNIA</td>\n",
       "      <td>CA</td>\n",
       "      <td>33.4</td>\n",
       "      <td>3.27</td>\n",
       "      <td>2</td>\n",
       "    </tr>\n",
       "    <tr>\n",
       "      <th>3</th>\n",
       "      <td>SAINT PAUL</td>\n",
       "      <td>MINNESOTA</td>\n",
       "      <td>MN</td>\n",
       "      <td>31.5</td>\n",
       "      <td>2.58</td>\n",
       "      <td>3</td>\n",
       "    </tr>\n",
       "    <tr>\n",
       "      <th>4</th>\n",
       "      <td>FULLERTON</td>\n",
       "      <td>CALIFORNIA</td>\n",
       "      <td>CA</td>\n",
       "      <td>34.5</td>\n",
       "      <td>2.97</td>\n",
       "      <td>4</td>\n",
       "    </tr>\n",
       "  </tbody>\n",
       "</table>\n",
       "</div>"
      ],
      "text/plain": [
       "          city       state state_code  median_age  avg_household_size  \\\n",
       "0  CLARKSVILLE   TENNESSEE         TN        29.7                2.64   \n",
       "1       RACINE   WISCONSIN         WI        33.7                2.56   \n",
       "2       TUSTIN  CALIFORNIA         CA        33.4                3.27   \n",
       "3   SAINT PAUL   MINNESOTA         MN        31.5                2.58   \n",
       "4    FULLERTON  CALIFORNIA         CA        34.5                2.97   \n",
       "\n",
       "   pop_statistics_id  \n",
       "0                  0  \n",
       "1                  1  \n",
       "2                  2  \n",
       "3                  3  \n",
       "4                  4  "
      ]
     },
     "execution_count": 28,
     "metadata": {},
     "output_type": "execute_result"
    }
   ],
   "source": [
    "#Rename Columns for 2nd Dimension Table: Population_Statistics\n",
    "new_column_name = ['city','state','state_code','median_age','avg_household_size','pop_statistics_id']\n",
    "Population_Statistics =  Population_Statistics.toDF(*new_column_name)\n",
    "Population_Statistics.limit(5).toPandas()"
   ]
  },
  {
   "cell_type": "markdown",
   "metadata": {
    "editable": true
   },
   "source": [
    "## Read temperature data file"
   ]
  },
  {
   "cell_type": "code",
   "execution_count": 10,
   "metadata": {
    "editable": true
   },
   "outputs": [],
   "source": [
    "# read temperature data file\n",
    "df_temperature = spark.read.format('csv').load(\"../../data2/*.csv\",header=True)\n",
    "df_temperature = df_temperature\\\n",
    "                        .withColumn('AverageTemperature', col('AverageTemperature').cast(DoubleType()))\\\n",
    "                        .withColumn('AverageTemperatureUncertainty', col('AverageTemperatureUncertainty').cast(DoubleType()))\\\n",
    "                        .withColumn('City',upper(df_temperature['City']))\\\n",
    "                        .withColumn('Country',upper(df_temperature['Country']))\n"
   ]
  },
  {
   "cell_type": "markdown",
   "metadata": {
    "editable": true
   },
   "source": [
    "## View temperature data file"
   ]
  },
  {
   "cell_type": "code",
   "execution_count": 11,
   "metadata": {
    "editable": true
   },
   "outputs": [
    {
     "data": {
      "text/html": [
       "<div>\n",
       "<style scoped>\n",
       "    .dataframe tbody tr th:only-of-type {\n",
       "        vertical-align: middle;\n",
       "    }\n",
       "\n",
       "    .dataframe tbody tr th {\n",
       "        vertical-align: top;\n",
       "    }\n",
       "\n",
       "    .dataframe thead th {\n",
       "        text-align: right;\n",
       "    }\n",
       "</style>\n",
       "<table border=\"1\" class=\"dataframe\">\n",
       "  <thead>\n",
       "    <tr style=\"text-align: right;\">\n",
       "      <th></th>\n",
       "      <th>dt</th>\n",
       "      <th>AverageTemperature</th>\n",
       "      <th>AverageTemperatureUncertainty</th>\n",
       "      <th>City</th>\n",
       "      <th>Country</th>\n",
       "      <th>Latitude</th>\n",
       "      <th>Longitude</th>\n",
       "    </tr>\n",
       "  </thead>\n",
       "  <tbody>\n",
       "    <tr>\n",
       "      <th>0</th>\n",
       "      <td>1743-11-01</td>\n",
       "      <td>6.068</td>\n",
       "      <td>1.737</td>\n",
       "      <td>ÅRHUS</td>\n",
       "      <td>DENMARK</td>\n",
       "      <td>57.05N</td>\n",
       "      <td>10.33E</td>\n",
       "    </tr>\n",
       "    <tr>\n",
       "      <th>1</th>\n",
       "      <td>1743-12-01</td>\n",
       "      <td>NaN</td>\n",
       "      <td>NaN</td>\n",
       "      <td>ÅRHUS</td>\n",
       "      <td>DENMARK</td>\n",
       "      <td>57.05N</td>\n",
       "      <td>10.33E</td>\n",
       "    </tr>\n",
       "    <tr>\n",
       "      <th>2</th>\n",
       "      <td>1744-01-01</td>\n",
       "      <td>NaN</td>\n",
       "      <td>NaN</td>\n",
       "      <td>ÅRHUS</td>\n",
       "      <td>DENMARK</td>\n",
       "      <td>57.05N</td>\n",
       "      <td>10.33E</td>\n",
       "    </tr>\n",
       "    <tr>\n",
       "      <th>3</th>\n",
       "      <td>1744-02-01</td>\n",
       "      <td>NaN</td>\n",
       "      <td>NaN</td>\n",
       "      <td>ÅRHUS</td>\n",
       "      <td>DENMARK</td>\n",
       "      <td>57.05N</td>\n",
       "      <td>10.33E</td>\n",
       "    </tr>\n",
       "    <tr>\n",
       "      <th>4</th>\n",
       "      <td>1744-03-01</td>\n",
       "      <td>NaN</td>\n",
       "      <td>NaN</td>\n",
       "      <td>ÅRHUS</td>\n",
       "      <td>DENMARK</td>\n",
       "      <td>57.05N</td>\n",
       "      <td>10.33E</td>\n",
       "    </tr>\n",
       "  </tbody>\n",
       "</table>\n",
       "</div>"
      ],
      "text/plain": [
       "           dt  AverageTemperature  AverageTemperatureUncertainty   City  \\\n",
       "0  1743-11-01               6.068                          1.737  ÅRHUS   \n",
       "1  1743-12-01                 NaN                            NaN  ÅRHUS   \n",
       "2  1744-01-01                 NaN                            NaN  ÅRHUS   \n",
       "3  1744-02-01                 NaN                            NaN  ÅRHUS   \n",
       "4  1744-03-01                 NaN                            NaN  ÅRHUS   \n",
       "\n",
       "   Country Latitude Longitude  \n",
       "0  DENMARK   57.05N    10.33E  \n",
       "1  DENMARK   57.05N    10.33E  \n",
       "2  DENMARK   57.05N    10.33E  \n",
       "3  DENMARK   57.05N    10.33E  \n",
       "4  DENMARK   57.05N    10.33E  "
      ]
     },
     "execution_count": 11,
     "metadata": {},
     "output_type": "execute_result"
    }
   ],
   "source": [
    "# view temperature data file\n",
    "df_temperature.limit(5).toPandas()"
   ]
  },
  {
   "cell_type": "markdown",
   "metadata": {
    "editable": true
   },
   "source": [
    "## Add year and month to temperatur data"
   ]
  },
  {
   "cell_type": "code",
   "execution_count": 14,
   "metadata": {
    "editable": true
   },
   "outputs": [
    {
     "data": {
      "text/html": [
       "<div>\n",
       "<style scoped>\n",
       "    .dataframe tbody tr th:only-of-type {\n",
       "        vertical-align: middle;\n",
       "    }\n",
       "\n",
       "    .dataframe tbody tr th {\n",
       "        vertical-align: top;\n",
       "    }\n",
       "\n",
       "    .dataframe thead th {\n",
       "        text-align: right;\n",
       "    }\n",
       "</style>\n",
       "<table border=\"1\" class=\"dataframe\">\n",
       "  <thead>\n",
       "    <tr style=\"text-align: right;\">\n",
       "      <th></th>\n",
       "      <th>dt</th>\n",
       "      <th>AverageTemperature</th>\n",
       "      <th>AverageTemperatureUncertainty</th>\n",
       "      <th>City</th>\n",
       "      <th>Country</th>\n",
       "      <th>Latitude</th>\n",
       "      <th>Longitude</th>\n",
       "      <th>year</th>\n",
       "      <th>month</th>\n",
       "    </tr>\n",
       "  </thead>\n",
       "  <tbody>\n",
       "    <tr>\n",
       "      <th>0</th>\n",
       "      <td>1743-11-01</td>\n",
       "      <td>6.068</td>\n",
       "      <td>1.737</td>\n",
       "      <td>ÅRHUS</td>\n",
       "      <td>DENMARK</td>\n",
       "      <td>57.05N</td>\n",
       "      <td>10.33E</td>\n",
       "      <td>1743</td>\n",
       "      <td>11</td>\n",
       "    </tr>\n",
       "    <tr>\n",
       "      <th>1</th>\n",
       "      <td>1743-12-01</td>\n",
       "      <td>NaN</td>\n",
       "      <td>NaN</td>\n",
       "      <td>ÅRHUS</td>\n",
       "      <td>DENMARK</td>\n",
       "      <td>57.05N</td>\n",
       "      <td>10.33E</td>\n",
       "      <td>1743</td>\n",
       "      <td>12</td>\n",
       "    </tr>\n",
       "    <tr>\n",
       "      <th>2</th>\n",
       "      <td>1744-01-01</td>\n",
       "      <td>NaN</td>\n",
       "      <td>NaN</td>\n",
       "      <td>ÅRHUS</td>\n",
       "      <td>DENMARK</td>\n",
       "      <td>57.05N</td>\n",
       "      <td>10.33E</td>\n",
       "      <td>1744</td>\n",
       "      <td>1</td>\n",
       "    </tr>\n",
       "    <tr>\n",
       "      <th>3</th>\n",
       "      <td>1744-02-01</td>\n",
       "      <td>NaN</td>\n",
       "      <td>NaN</td>\n",
       "      <td>ÅRHUS</td>\n",
       "      <td>DENMARK</td>\n",
       "      <td>57.05N</td>\n",
       "      <td>10.33E</td>\n",
       "      <td>1744</td>\n",
       "      <td>2</td>\n",
       "    </tr>\n",
       "    <tr>\n",
       "      <th>4</th>\n",
       "      <td>1744-03-01</td>\n",
       "      <td>NaN</td>\n",
       "      <td>NaN</td>\n",
       "      <td>ÅRHUS</td>\n",
       "      <td>DENMARK</td>\n",
       "      <td>57.05N</td>\n",
       "      <td>10.33E</td>\n",
       "      <td>1744</td>\n",
       "      <td>3</td>\n",
       "    </tr>\n",
       "  </tbody>\n",
       "</table>\n",
       "</div>"
      ],
      "text/plain": [
       "           dt  AverageTemperature  AverageTemperatureUncertainty   City  \\\n",
       "0  1743-11-01               6.068                          1.737  ÅRHUS   \n",
       "1  1743-12-01                 NaN                            NaN  ÅRHUS   \n",
       "2  1744-01-01                 NaN                            NaN  ÅRHUS   \n",
       "3  1744-02-01                 NaN                            NaN  ÅRHUS   \n",
       "4  1744-03-01                 NaN                            NaN  ÅRHUS   \n",
       "\n",
       "   Country Latitude Longitude  year  month  \n",
       "0  DENMARK   57.05N    10.33E  1743     11  \n",
       "1  DENMARK   57.05N    10.33E  1743     12  \n",
       "2  DENMARK   57.05N    10.33E  1744      1  \n",
       "3  DENMARK   57.05N    10.33E  1744      2  \n",
       "4  DENMARK   57.05N    10.33E  1744      3  "
      ]
     },
     "execution_count": 14,
     "metadata": {},
     "output_type": "execute_result"
    }
   ],
   "source": [
    "# Add year and month to temperature data\n",
    "df_temperature = df_temperature.withColumn('dt', to_date(df_temperature['dt']))\n",
    "df_temperature = df_temperature.withColumn('year', year(df_temperature['dt']))\n",
    "df_temperature = df_temperature.withColumn('month', month(df_temperature['dt']))\n",
    "df_temperature.limit(5).toPandas()"
   ]
  },
  {
   "cell_type": "markdown",
   "metadata": {
    "editable": true
   },
   "source": [
    "## Create Dimension Table: Temperatures"
   ]
  },
  {
   "cell_type": "code",
   "execution_count": 15,
   "metadata": {
    "editable": true
   },
   "outputs": [],
   "source": [
    "#Create Dimension Table: Temperatures\n",
    "Temperatures = df_temperature.select('dt','year','month','Country','City','Latitude','Longitude').distinct()"
   ]
  },
  {
   "cell_type": "markdown",
   "metadata": {
    "editable": true
   },
   "source": [
    "## Rename Columns for Dimension Table: Temperatures"
   ]
  },
  {
   "cell_type": "code",
   "execution_count": 16,
   "metadata": {
    "editable": true
   },
   "outputs": [
    {
     "data": {
      "text/html": [
       "<div>\n",
       "<style scoped>\n",
       "    .dataframe tbody tr th:only-of-type {\n",
       "        vertical-align: middle;\n",
       "    }\n",
       "\n",
       "    .dataframe tbody tr th {\n",
       "        vertical-align: top;\n",
       "    }\n",
       "\n",
       "    .dataframe thead th {\n",
       "        text-align: right;\n",
       "    }\n",
       "</style>\n",
       "<table border=\"1\" class=\"dataframe\">\n",
       "  <thead>\n",
       "    <tr style=\"text-align: right;\">\n",
       "      <th></th>\n",
       "      <th>date</th>\n",
       "      <th>year</th>\n",
       "      <th>month</th>\n",
       "      <th>country</th>\n",
       "      <th>city</th>\n",
       "      <th>latitude</th>\n",
       "      <th>longitude</th>\n",
       "    </tr>\n",
       "  </thead>\n",
       "  <tbody>\n",
       "    <tr>\n",
       "      <th>0</th>\n",
       "      <td>1842-07-01</td>\n",
       "      <td>1842</td>\n",
       "      <td>7</td>\n",
       "      <td>INDONESIA</td>\n",
       "      <td>BONTANG</td>\n",
       "      <td>0.80N</td>\n",
       "      <td>118.13E</td>\n",
       "    </tr>\n",
       "    <tr>\n",
       "      <th>1</th>\n",
       "      <td>1846-12-01</td>\n",
       "      <td>1846</td>\n",
       "      <td>12</td>\n",
       "      <td>INDONESIA</td>\n",
       "      <td>BONTANG</td>\n",
       "      <td>0.80N</td>\n",
       "      <td>118.13E</td>\n",
       "    </tr>\n",
       "    <tr>\n",
       "      <th>2</th>\n",
       "      <td>1847-10-01</td>\n",
       "      <td>1847</td>\n",
       "      <td>10</td>\n",
       "      <td>INDONESIA</td>\n",
       "      <td>BONTANG</td>\n",
       "      <td>0.80N</td>\n",
       "      <td>118.13E</td>\n",
       "    </tr>\n",
       "    <tr>\n",
       "      <th>3</th>\n",
       "      <td>1852-08-01</td>\n",
       "      <td>1852</td>\n",
       "      <td>8</td>\n",
       "      <td>CONGO (DEMOCRATIC REPUBLIC OF THE)</td>\n",
       "      <td>BUTEMBO</td>\n",
       "      <td>0.80N</td>\n",
       "      <td>29.73E</td>\n",
       "    </tr>\n",
       "    <tr>\n",
       "      <th>4</th>\n",
       "      <td>1861-01-01</td>\n",
       "      <td>1861</td>\n",
       "      <td>1</td>\n",
       "      <td>INDONESIA</td>\n",
       "      <td>BONTANG</td>\n",
       "      <td>0.80N</td>\n",
       "      <td>118.13E</td>\n",
       "    </tr>\n",
       "  </tbody>\n",
       "</table>\n",
       "</div>"
      ],
      "text/plain": [
       "         date  year  month                             country     city  \\\n",
       "0  1842-07-01  1842      7                           INDONESIA  BONTANG   \n",
       "1  1846-12-01  1846     12                           INDONESIA  BONTANG   \n",
       "2  1847-10-01  1847     10                           INDONESIA  BONTANG   \n",
       "3  1852-08-01  1852      8  CONGO (DEMOCRATIC REPUBLIC OF THE)  BUTEMBO   \n",
       "4  1861-01-01  1861      1                           INDONESIA  BONTANG   \n",
       "\n",
       "  latitude longitude  \n",
       "0    0.80N   118.13E  \n",
       "1    0.80N   118.13E  \n",
       "2    0.80N   118.13E  \n",
       "3    0.80N    29.73E  \n",
       "4    0.80N   118.13E  "
      ]
     },
     "execution_count": 16,
     "metadata": {},
     "output_type": "execute_result"
    }
   ],
   "source": [
    "#Rename Columns for Dimension Table: Temperatures\n",
    "new_column_name =['date','year','month','country','city','latitude','longitude']\n",
    "Temperatures = Temperatures.toDF(*new_column_name)\n",
    "Temperatures.limit(5).toPandas()"
   ]
  },
  {
   "cell_type": "markdown",
   "metadata": {
    "editable": true
   },
   "source": [
    "## Create Dimension Table Temperature_Statistics"
   ]
  },
  {
   "cell_type": "code",
   "execution_count": 18,
   "metadata": {
    "editable": true
   },
   "outputs": [],
   "source": [
    "#Create Dimension Table Temperature_Statistics\n",
    "Temperature_Statistics = df_temperature.select('dt','year','month','Country','City'\\\n",
    "                                                       ,'AverageTemperature','AverageTemperatureUncertainty')"
   ]
  },
  {
   "cell_type": "markdown",
   "metadata": {
    "editable": true
   },
   "source": [
    "## Rename Columns for Table Temperature_Statistics"
   ]
  },
  {
   "cell_type": "code",
   "execution_count": 19,
   "metadata": {
    "editable": true
   },
   "outputs": [
    {
     "data": {
      "text/html": [
       "<div>\n",
       "<style scoped>\n",
       "    .dataframe tbody tr th:only-of-type {\n",
       "        vertical-align: middle;\n",
       "    }\n",
       "\n",
       "    .dataframe tbody tr th {\n",
       "        vertical-align: top;\n",
       "    }\n",
       "\n",
       "    .dataframe thead th {\n",
       "        text-align: right;\n",
       "    }\n",
       "</style>\n",
       "<table border=\"1\" class=\"dataframe\">\n",
       "  <thead>\n",
       "    <tr style=\"text-align: right;\">\n",
       "      <th></th>\n",
       "      <th>date</th>\n",
       "      <th>year</th>\n",
       "      <th>month</th>\n",
       "      <th>country</th>\n",
       "      <th>city</th>\n",
       "      <th>avg_temp</th>\n",
       "      <th>avg_temp_uncertainty</th>\n",
       "    </tr>\n",
       "  </thead>\n",
       "  <tbody>\n",
       "    <tr>\n",
       "      <th>0</th>\n",
       "      <td>1743-11-01</td>\n",
       "      <td>1743</td>\n",
       "      <td>11</td>\n",
       "      <td>DENMARK</td>\n",
       "      <td>ÅRHUS</td>\n",
       "      <td>6.068</td>\n",
       "      <td>1.737</td>\n",
       "    </tr>\n",
       "    <tr>\n",
       "      <th>1</th>\n",
       "      <td>1743-12-01</td>\n",
       "      <td>1743</td>\n",
       "      <td>12</td>\n",
       "      <td>DENMARK</td>\n",
       "      <td>ÅRHUS</td>\n",
       "      <td>NaN</td>\n",
       "      <td>NaN</td>\n",
       "    </tr>\n",
       "    <tr>\n",
       "      <th>2</th>\n",
       "      <td>1744-01-01</td>\n",
       "      <td>1744</td>\n",
       "      <td>1</td>\n",
       "      <td>DENMARK</td>\n",
       "      <td>ÅRHUS</td>\n",
       "      <td>NaN</td>\n",
       "      <td>NaN</td>\n",
       "    </tr>\n",
       "    <tr>\n",
       "      <th>3</th>\n",
       "      <td>1744-02-01</td>\n",
       "      <td>1744</td>\n",
       "      <td>2</td>\n",
       "      <td>DENMARK</td>\n",
       "      <td>ÅRHUS</td>\n",
       "      <td>NaN</td>\n",
       "      <td>NaN</td>\n",
       "    </tr>\n",
       "    <tr>\n",
       "      <th>4</th>\n",
       "      <td>1744-03-01</td>\n",
       "      <td>1744</td>\n",
       "      <td>3</td>\n",
       "      <td>DENMARK</td>\n",
       "      <td>ÅRHUS</td>\n",
       "      <td>NaN</td>\n",
       "      <td>NaN</td>\n",
       "    </tr>\n",
       "  </tbody>\n",
       "</table>\n",
       "</div>"
      ],
      "text/plain": [
       "         date  year  month  country   city  avg_temp  avg_temp_uncertainty\n",
       "0  1743-11-01  1743     11  DENMARK  ÅRHUS     6.068                 1.737\n",
       "1  1743-12-01  1743     12  DENMARK  ÅRHUS       NaN                   NaN\n",
       "2  1744-01-01  1744      1  DENMARK  ÅRHUS       NaN                   NaN\n",
       "3  1744-02-01  1744      2  DENMARK  ÅRHUS       NaN                   NaN\n",
       "4  1744-03-01  1744      3  DENMARK  ÅRHUS       NaN                   NaN"
      ]
     },
     "execution_count": 19,
     "metadata": {},
     "output_type": "execute_result"
    }
   ],
   "source": [
    "#Rename Columns for Table Temperature_Statistics\n",
    "new_column_name =['date','year','month','country','city','avg_temp','avg_temp_uncertainty']\n",
    "Temperature_Statistics = Temperature_Statistics.toDF(*new_column_name)\n",
    "Temperature_Statistics.limit(5).toPandas()"
   ]
  },
  {
   "cell_type": "markdown",
   "metadata": {
    "editable": true
   },
   "source": [
    "## Read library data file"
   ]
  },
  {
   "cell_type": "code",
   "execution_count": 37,
   "metadata": {
    "editable": true
   },
   "outputs": [],
   "source": [
    "# read library data file\n",
    "with open(\"I94_SAS_Labels_Descriptions.SAS\") as library:\n",
    "    lines = library.readlines()"
   ]
  },
  {
   "cell_type": "markdown",
   "metadata": {
    "editable": true
   },
   "source": [
    "## Create Auxilary Tables"
   ]
  },
  {
   "cell_type": "markdown",
   "metadata": {
    "editable": true
   },
   "source": [
    "### Create Auxilary Table: Countries"
   ]
  },
  {
   "cell_type": "code",
   "execution_count": 38,
   "metadata": {
    "editable": true
   },
   "outputs": [],
   "source": [
    "# Create an empty RDD\n",
    "emp_RDD = spark.sparkContext.emptyRDD()\n",
    "\n",
    "# Create an expected schema\n",
    "columns = StructType([StructField('code',StringType(), True)\\\n",
    "                    ,StructField('country',StringType(), True)])\n",
    "# Create an empty RDD with expected schema\n",
    "Countries = spark.createDataFrame(data = emp_RDD,\n",
    "                           schema = columns)"
   ]
  },
  {
   "cell_type": "markdown",
   "metadata": {
    "editable": true
   },
   "source": [
    "### Insert into Auxilary Table: Countries"
   ]
  },
  {
   "cell_type": "code",
   "execution_count": 39,
   "metadata": {
    "editable": true
   },
   "outputs": [],
   "source": [
    "# Insert into Auxilary Table: Countries\n",
    "country_data = lines[9:298]\n",
    "for data in country_data:\n",
    "    temp = data.split('=')\n",
    "    list = [temp[0].strip(), temp[1].strip().strip(\"'\").strip(\";\")]\n",
    "    columns =  ['code', 'country']\n",
    "    newRow = spark.createDataFrame([list], columns)\n",
    "    Countries = Countries.union(newRow)"
   ]
  },
  {
   "cell_type": "markdown",
   "metadata": {
    "editable": true
   },
   "source": [
    "### Convert code datatype to int"
   ]
  },
  {
   "cell_type": "code",
   "execution_count": 40,
   "metadata": {
    "editable": true
   },
   "outputs": [],
   "source": [
    "# Convert code datatype to int\n",
    "Countries = Countries.withColumn('code', col('code').cast(IntegerType()))"
   ]
  },
  {
   "cell_type": "markdown",
   "metadata": {
    "editable": true
   },
   "source": [
    "### View Auxilary Table: Countries"
   ]
  },
  {
   "cell_type": "code",
   "execution_count": 41,
   "metadata": {
    "editable": true
   },
   "outputs": [
    {
     "data": {
      "text/html": [
       "<div>\n",
       "<style scoped>\n",
       "    .dataframe tbody tr th:only-of-type {\n",
       "        vertical-align: middle;\n",
       "    }\n",
       "\n",
       "    .dataframe tbody tr th {\n",
       "        vertical-align: top;\n",
       "    }\n",
       "\n",
       "    .dataframe thead th {\n",
       "        text-align: right;\n",
       "    }\n",
       "</style>\n",
       "<table border=\"1\" class=\"dataframe\">\n",
       "  <thead>\n",
       "    <tr style=\"text-align: right;\">\n",
       "      <th></th>\n",
       "      <th>code</th>\n",
       "      <th>country</th>\n",
       "    </tr>\n",
       "  </thead>\n",
       "  <tbody>\n",
       "    <tr>\n",
       "      <th>0</th>\n",
       "      <td>582</td>\n",
       "      <td>MEXICO Air Sea, and Not Reported (I-94, no land arrivals)</td>\n",
       "    </tr>\n",
       "    <tr>\n",
       "      <th>1</th>\n",
       "      <td>236</td>\n",
       "      <td>AFGHANISTAN</td>\n",
       "    </tr>\n",
       "    <tr>\n",
       "      <th>2</th>\n",
       "      <td>101</td>\n",
       "      <td>ALBANIA</td>\n",
       "    </tr>\n",
       "    <tr>\n",
       "      <th>3</th>\n",
       "      <td>316</td>\n",
       "      <td>ALGERIA</td>\n",
       "    </tr>\n",
       "    <tr>\n",
       "      <th>4</th>\n",
       "      <td>102</td>\n",
       "      <td>ANDORRA</td>\n",
       "    </tr>\n",
       "  </tbody>\n",
       "</table>\n",
       "</div>"
      ],
      "text/plain": [
       "   code                                                    country\n",
       "0   582  MEXICO Air Sea, and Not Reported (I-94, no land arrivals)\n",
       "1   236                                                AFGHANISTAN\n",
       "2   101                                                    ALBANIA\n",
       "3   316                                                    ALGERIA\n",
       "4   102                                                    ANDORRA"
      ]
     },
     "execution_count": 41,
     "metadata": {},
     "output_type": "execute_result"
    }
   ],
   "source": [
    "# view Auxilary Table: Countries\n",
    "Countries.limit(5).toPandas()"
   ]
  },
  {
   "cell_type": "markdown",
   "metadata": {
    "editable": true
   },
   "source": [
    "### Create Auxilary Table: States"
   ]
  },
  {
   "cell_type": "code",
   "execution_count": 44,
   "metadata": {
    "editable": true
   },
   "outputs": [],
   "source": [
    "# Create Auxilary Table: States\n",
    "# Create an empty RDD\n",
    "emp_RDD = spark.sparkContext.emptyRDD()\n",
    "\n",
    "    # Create an expected schema\n",
    "columns = StructType([StructField('state_code',StringType(), True)\\\n",
    "                    ,StructField('state',StringType(), True)])\n",
    "    # Create an empty RDD with expected schema\n",
    "States = spark.createDataFrame(data = emp_RDD,schema = columns)"
   ]
  },
  {
   "cell_type": "markdown",
   "metadata": {
    "editable": true
   },
   "source": [
    "### Insert into Auxilary Table: States"
   ]
  },
  {
   "cell_type": "code",
   "execution_count": 45,
   "metadata": {
    "editable": true
   },
   "outputs": [],
   "source": [
    "# Insert into Auxilary Table: States\n",
    "country_data = lines[981:1036]\n",
    "for data in country_data:\n",
    "    temp = data.split('=')\n",
    "    list = [temp[0].strip(), temp[1].strip().strip(\"'\").strip(\";\")]\n",
    "    columns =  ['state_code', 'state']\n",
    "    newRow = spark.createDataFrame([list], columns)\n",
    "    States = States.union(newRow)"
   ]
  },
  {
   "cell_type": "markdown",
   "metadata": {
    "editable": true
   },
   "source": [
    "### View Auxilary Table: States"
   ]
  },
  {
   "cell_type": "code",
   "execution_count": 46,
   "metadata": {
    "editable": true
   },
   "outputs": [
    {
     "data": {
      "text/html": [
       "<div>\n",
       "<style scoped>\n",
       "    .dataframe tbody tr th:only-of-type {\n",
       "        vertical-align: middle;\n",
       "    }\n",
       "\n",
       "    .dataframe tbody tr th {\n",
       "        vertical-align: top;\n",
       "    }\n",
       "\n",
       "    .dataframe thead th {\n",
       "        text-align: right;\n",
       "    }\n",
       "</style>\n",
       "<table border=\"1\" class=\"dataframe\">\n",
       "  <thead>\n",
       "    <tr style=\"text-align: right;\">\n",
       "      <th></th>\n",
       "      <th>state_code</th>\n",
       "      <th>state</th>\n",
       "    </tr>\n",
       "  </thead>\n",
       "  <tbody>\n",
       "    <tr>\n",
       "      <th>0</th>\n",
       "      <td>'AL'</td>\n",
       "      <td>ALABAMA</td>\n",
       "    </tr>\n",
       "    <tr>\n",
       "      <th>1</th>\n",
       "      <td>'AK'</td>\n",
       "      <td>ALASKA</td>\n",
       "    </tr>\n",
       "    <tr>\n",
       "      <th>2</th>\n",
       "      <td>'AZ'</td>\n",
       "      <td>ARIZONA</td>\n",
       "    </tr>\n",
       "    <tr>\n",
       "      <th>3</th>\n",
       "      <td>'AR'</td>\n",
       "      <td>ARKANSAS</td>\n",
       "    </tr>\n",
       "    <tr>\n",
       "      <th>4</th>\n",
       "      <td>'CA'</td>\n",
       "      <td>CALIFORNIA</td>\n",
       "    </tr>\n",
       "  </tbody>\n",
       "</table>\n",
       "</div>"
      ],
      "text/plain": [
       "  state_code       state\n",
       "0       'AL'     ALABAMA\n",
       "1       'AK'      ALASKA\n",
       "2       'AZ'     ARIZONA\n",
       "3       'AR'    ARKANSAS\n",
       "4       'CA'  CALIFORNIA"
      ]
     },
     "execution_count": 46,
     "metadata": {},
     "output_type": "execute_result"
    }
   ],
   "source": [
    "# view Auxilary Table: States\n",
    "States.limit(5).toPandas()"
   ]
  },
  {
   "cell_type": "markdown",
   "metadata": {
    "editable": true
   },
   "source": [
    "### Create Auxilary Table: Ports"
   ]
  },
  {
   "cell_type": "code",
   "execution_count": 49,
   "metadata": {
    "editable": true
   },
   "outputs": [],
   "source": [
    "# Create Auxilary Table: Ports\n",
    "# Create an empty RDD\n",
    "emp_RDD = spark.sparkContext.emptyRDD()\n",
    "\n",
    "# Create an expected schema\n",
    "columns = StructType([StructField('port_code',StringType(), True)\\\n",
    "                    ,StructField('port_city',StringType(), True)])\n",
    "# Create an empty RDD with expected schema\n",
    "Ports = spark.createDataFrame(data = emp_RDD,schema = columns)"
   ]
  },
  {
   "cell_type": "markdown",
   "metadata": {
    "editable": true
   },
   "source": [
    "### Insert into Auxilary Table: Ports"
   ]
  },
  {
   "cell_type": "code",
   "execution_count": 50,
   "metadata": {
    "editable": true
   },
   "outputs": [],
   "source": [
    "# Insert into Auxilary Table: Ports\n",
    "country_data = lines[302:961]\n",
    "for data in country_data:\n",
    "    temp = data.split('=')\n",
    "    list = [temp[0].strip(), temp[1].strip().strip(\"'\").split(',')[0]]\n",
    "    columns =  ['port_code', 'port_city']\n",
    "    newRow = spark.createDataFrame([list], columns)\n",
    "    Ports = Ports.union(newRow)"
   ]
  },
  {
   "cell_type": "markdown",
   "metadata": {
    "editable": true
   },
   "source": [
    "### View Auxilary Table: States"
   ]
  },
  {
   "cell_type": "code",
   "execution_count": 51,
   "metadata": {
    "editable": true
   },
   "outputs": [
    {
     "data": {
      "text/html": [
       "<div>\n",
       "<style scoped>\n",
       "    .dataframe tbody tr th:only-of-type {\n",
       "        vertical-align: middle;\n",
       "    }\n",
       "\n",
       "    .dataframe tbody tr th {\n",
       "        vertical-align: top;\n",
       "    }\n",
       "\n",
       "    .dataframe thead th {\n",
       "        text-align: right;\n",
       "    }\n",
       "</style>\n",
       "<table border=\"1\" class=\"dataframe\">\n",
       "  <thead>\n",
       "    <tr style=\"text-align: right;\">\n",
       "      <th></th>\n",
       "      <th>port_code</th>\n",
       "      <th>port_city</th>\n",
       "    </tr>\n",
       "  </thead>\n",
       "  <tbody>\n",
       "    <tr>\n",
       "      <th>0</th>\n",
       "      <td>'ALC'</td>\n",
       "      <td>ALCAN</td>\n",
       "    </tr>\n",
       "    <tr>\n",
       "      <th>1</th>\n",
       "      <td>'ANC'</td>\n",
       "      <td>ANCHORAGE</td>\n",
       "    </tr>\n",
       "    <tr>\n",
       "      <th>2</th>\n",
       "      <td>'BAR'</td>\n",
       "      <td>BAKER AAF - BAKER ISLAND</td>\n",
       "    </tr>\n",
       "    <tr>\n",
       "      <th>3</th>\n",
       "      <td>'DAC'</td>\n",
       "      <td>DALTONS CACHE</td>\n",
       "    </tr>\n",
       "    <tr>\n",
       "      <th>4</th>\n",
       "      <td>'PIZ'</td>\n",
       "      <td>DEW STATION PT LAY DEW</td>\n",
       "    </tr>\n",
       "  </tbody>\n",
       "</table>\n",
       "</div>"
      ],
      "text/plain": [
       "  port_code                 port_city\n",
       "0     'ALC'                     ALCAN\n",
       "1     'ANC'                 ANCHORAGE\n",
       "2     'BAR'  BAKER AAF - BAKER ISLAND\n",
       "3     'DAC'             DALTONS CACHE\n",
       "4     'PIZ'    DEW STATION PT LAY DEW"
      ]
     },
     "execution_count": 51,
     "metadata": {},
     "output_type": "execute_result"
    }
   ],
   "source": [
    "# view Auxilary Table: States\n",
    "Ports.limit(5).toPandas()"
   ]
  },
  {
   "cell_type": "markdown",
   "metadata": {
    "editable": true
   },
   "source": [
    "### Create Auxilary Table: Visas"
   ]
  },
  {
   "cell_type": "code",
   "execution_count": 52,
   "metadata": {
    "editable": true
   },
   "outputs": [],
   "source": [
    "# Create Auxilary Table: Visas\n",
    "# Create an empty RDD\n",
    "emp_RDD = spark.sparkContext.emptyRDD()\n",
    "\n",
    "# Create an expected schema\n",
    "columns = StructType([StructField('visa_code',StringType(), True)\\\n",
    "                    ,StructField('visa',StringType(), True)])\n",
    "\n",
    "# Create an empty RDD with expected schema\n",
    "Visas = spark.createDataFrame(data = emp_RDD,schema = columns)"
   ]
  },
  {
   "cell_type": "markdown",
   "metadata": {
    "editable": true
   },
   "source": [
    "### Insert into Auxilary Table: Visas"
   ]
  },
  {
   "cell_type": "code",
   "execution_count": 53,
   "metadata": {
    "editable": true
   },
   "outputs": [],
   "source": [
    "# Insert into Auxilary Table: Visas\n",
    "country_data = lines[1046:1049]\n",
    "for data in country_data:\n",
    "    temp = data.split('=')\n",
    "    list = [temp[0].strip(), temp[1].strip().strip(\"'\").strip(\";\")]\n",
    "    columns =  ['visa_code', 'visa']\n",
    "    newRow = spark.createDataFrame([list], columns)\n",
    "    Visas = Visas.union(newRow)"
   ]
  },
  {
   "cell_type": "markdown",
   "metadata": {
    "editable": true
   },
   "source": [
    "### Convert visa_code datatype to int"
   ]
  },
  {
   "cell_type": "code",
   "execution_count": 54,
   "metadata": {
    "editable": true
   },
   "outputs": [],
   "source": [
    "# Convert visa_code datatype to int\n",
    "Visas = Visas.withColumn('visa_code', col('visa_code').cast(IntegerType()))"
   ]
  },
  {
   "cell_type": "markdown",
   "metadata": {
    "editable": true
   },
   "source": [
    "### View Auxilary Table: Visas"
   ]
  },
  {
   "cell_type": "code",
   "execution_count": 55,
   "metadata": {
    "editable": true
   },
   "outputs": [
    {
     "data": {
      "text/html": [
       "<div>\n",
       "<style scoped>\n",
       "    .dataframe tbody tr th:only-of-type {\n",
       "        vertical-align: middle;\n",
       "    }\n",
       "\n",
       "    .dataframe tbody tr th {\n",
       "        vertical-align: top;\n",
       "    }\n",
       "\n",
       "    .dataframe thead th {\n",
       "        text-align: right;\n",
       "    }\n",
       "</style>\n",
       "<table border=\"1\" class=\"dataframe\">\n",
       "  <thead>\n",
       "    <tr style=\"text-align: right;\">\n",
       "      <th></th>\n",
       "      <th>visa_code</th>\n",
       "      <th>visa</th>\n",
       "    </tr>\n",
       "  </thead>\n",
       "  <tbody>\n",
       "    <tr>\n",
       "      <th>0</th>\n",
       "      <td>1</td>\n",
       "      <td>Business</td>\n",
       "    </tr>\n",
       "    <tr>\n",
       "      <th>1</th>\n",
       "      <td>2</td>\n",
       "      <td>Pleasure</td>\n",
       "    </tr>\n",
       "    <tr>\n",
       "      <th>2</th>\n",
       "      <td>3</td>\n",
       "      <td>Student</td>\n",
       "    </tr>\n",
       "  </tbody>\n",
       "</table>\n",
       "</div>"
      ],
      "text/plain": [
       "   visa_code      visa\n",
       "0          1  Business\n",
       "1          2  Pleasure\n",
       "2          3   Student"
      ]
     },
     "execution_count": 55,
     "metadata": {},
     "output_type": "execute_result"
    }
   ],
   "source": [
    "# view Auxilary Table: Visas\n",
    "Visas.limit(5).toPandas()"
   ]
  },
  {
   "cell_type": "code",
   "execution_count": null,
   "metadata": {
    "editable": true
   },
   "outputs": [],
   "source": []
  }
 ],
 "metadata": {
  "kernelspec": {
   "display_name": "Python 3",
   "language": "python",
   "name": "python3"
  },
  "language_info": {
   "codemirror_mode": {
    "name": "ipython",
    "version": 3
   },
   "file_extension": ".py",
   "mimetype": "text/x-python",
   "name": "python",
   "nbconvert_exporter": "python",
   "pygments_lexer": "ipython3",
   "version": "3.6.3"
  }
 },
 "nbformat": 4,
 "nbformat_minor": 4
}
